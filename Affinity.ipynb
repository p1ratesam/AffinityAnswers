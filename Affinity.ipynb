{
 "cells": [
  {
   "cell_type": "markdown",
   "id": "63aea634",
   "metadata": {},
   "source": [
    "# <div align=\"center\">AffinityAnswers Assignment\n",
    "    \n",
    "<center>\n",
    "   \n",
    "\n",
    "    \n",
    "    SANJAY.N|DATE : 04-12-2022 \n",
    "\n",
    "\n"
   ]
  },
  {
   "cell_type": "markdown",
   "id": "d292bf4a",
   "metadata": {},
   "source": [
    "# Problem Statement\n",
    "#### Imagine there is a file full of Twitter tweets by various users and you are provided a set of words that indicates racial slurs.  Write a program that can indicate the degree of profanity for each sentence in the file. "
   ]
  },
  {
   "cell_type": "code",
   "execution_count": 6,
   "id": "0d9a5cd9",
   "metadata": {},
   "outputs": [
    {
     "name": "stdout",
     "output_type": "stream",
     "text": [
      "line 0 : 0.0\n",
      "line 1 : 0.0\n",
      "line 2 : 0.07692307692307693\n",
      "line 3 : 0.0\n",
      "line 4 : 0.04\n"
     ]
    }
   ],
   "source": [
    "import re\n",
    "from nltk.tokenize import word_tokenize\n",
    "from nltk.stem.porter import *\n",
    "stemmer = PorterStemmer()\n",
    "\n",
    "def remove_pattern(input_txt, pattern):  \n",
    "  r = re.findall(pattern, input_txt)\n",
    "  for i in r:\n",
    "    input_txt = re.sub(i, '', input_txt)\n",
    "\n",
    "  return input_txt\n",
    "\n",
    "t_file = open('affine.txt',encoding=\"utf8\")                        # Opening file\n",
    "\n",
    "racial_slur = {\"Nigger\",\"wasabi\",\"white\"}                            # list of racial slurs words\n",
    "\n",
    "\n",
    "lines = t_file.readlines()\n",
    "s =0\n",
    "for line in lines:   \n",
    "    line = line.lower() \n",
    "    line = remove_pattern(line,\"@[\\w]*\")            #we need to remove Twitter handles if files contains that.\n",
    "\n",
    "    line = re.sub(r\"[^a-zA-Z0-9]\",\" \",line)         # Remove special characters, numbers, punctuation\n",
    "    line = word_tokenize(line) \n",
    "    \n",
    "    #degree_of_profanity of that line\n",
    "    degree_of_profanity = sum(1 for t in line if t in racial_slur)/ len(line)\n",
    "    print(\"line\",s,\":\",degree_of_profanity)             \n",
    "    s +=1"
   ]
  },
  {
   "cell_type": "markdown",
   "id": "05e9819e",
   "metadata": {},
   "source": [
    "####  <font color='red'>2. Which is an interesting data set you discovered recently?</font>"
   ]
  },
  {
   "cell_type": "markdown",
   "id": "7e0271a4",
   "metadata": {},
   "source": [
    "Currently I'm working under my prof on Research topic Music Therapy. where we took data from students who loves to listen music and who don't then we planned to observe there results and other extra curricular activities. It was an intresting topic to me."
   ]
  },
  {
   "cell_type": "markdown",
   "id": "feba1f56",
   "metadata": {},
   "source": [
    "#### <font color='red'>3. Why do we need a database? We can store everything in a file, no?</font> "
   ]
  },
  {
   "cell_type": "markdown",
   "id": "8e6447e3",
   "metadata": {},
   "source": [
    "you are correct we can store everything in a file but while we will be dealing with large amount of data, searcing or retrieval will be very difficult. i.e while i was working in microsoft i was required to optimize database query so i make use of index to store and get the data which makes retrieval very easy and O(1) other wise it would be O(n). it makes files inefficient in dealing with large data.\n",
    "#### <font color='green'>  lot of security issues will arises and there will be always vulnerable to attacks.</font>"
   ]
  },
  {
   "cell_type": "markdown",
   "id": "c409c7ab",
   "metadata": {},
   "source": [
    "#### <font color='red'> 4. How well versed are you on the Unix command line?</font>"
   ]
  },
  {
   "cell_type": "markdown",
   "id": "ff7f36c7",
   "metadata": {},
   "source": [
    "#### <font color='green'> I'm preety decent with that. but still there is lot to learn. </font>"
   ]
  },
  {
   "cell_type": "code",
   "execution_count": null,
   "id": "e0a09352",
   "metadata": {},
   "outputs": [],
   "source": []
  }
 ],
 "metadata": {
  "kernelspec": {
   "display_name": "Python 3",
   "language": "python",
   "name": "python3"
  },
  "language_info": {
   "codemirror_mode": {
    "name": "ipython",
    "version": 3
   },
   "file_extension": ".py",
   "mimetype": "text/x-python",
   "name": "python",
   "nbconvert_exporter": "python",
   "pygments_lexer": "ipython3",
   "version": "3.8.8"
  }
 },
 "nbformat": 4,
 "nbformat_minor": 5
}
